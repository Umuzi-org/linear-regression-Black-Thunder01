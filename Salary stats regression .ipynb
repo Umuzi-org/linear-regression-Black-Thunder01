{
 "cells": [
  {
   "cell_type": "code",
   "execution_count": 11,
   "metadata": {},
   "outputs": [
    {
     "data": {
      "text/plain": [
       "(array([], dtype=int64), array([], dtype=int64))"
      ]
     },
     "execution_count": 11,
     "metadata": {},
     "output_type": "execute_result"
    }
   ],
   "source": [
    "import pandas as pd\n",
    "import matplotlib.pyplot as plt\n",
    "import numpy as np\n",
    "import scipy.stats as stats\n",
    "from mpl_toolkits import mplot3d\n",
    "# \n",
    "file = pd.read_csv('salary.csv')\n",
    "file = file.dropna()\n",
    "np.where(pd.isnull(file))"
   ]
  },
  {
   "cell_type": "code",
   "execution_count": 88,
   "metadata": {},
   "outputs": [
    {
     "data": {
      "text/html": [
       "<div>\n",
       "<style scoped>\n",
       "    .dataframe tbody tr th:only-of-type {\n",
       "        vertical-align: middle;\n",
       "    }\n",
       "\n",
       "    .dataframe tbody tr th {\n",
       "        vertical-align: top;\n",
       "    }\n",
       "\n",
       "    .dataframe thead th {\n",
       "        text-align: right;\n",
       "    }\n",
       "</style>\n",
       "<table border=\"1\" class=\"dataframe\">\n",
       "  <thead>\n",
       "    <tr style=\"text-align: right;\">\n",
       "      <th></th>\n",
       "      <th>salary</th>\n",
       "      <th>exprior</th>\n",
       "      <th>yearsworked</th>\n",
       "      <th>yearsrank</th>\n",
       "      <th>market</th>\n",
       "      <th>degree</th>\n",
       "      <th>otherqual</th>\n",
       "      <th>position</th>\n",
       "      <th>male</th>\n",
       "      <th>Field</th>\n",
       "      <th>yearsabs</th>\n",
       "    </tr>\n",
       "  </thead>\n",
       "  <tbody>\n",
       "    <tr>\n",
       "      <th>0</th>\n",
       "      <td>53000.0</td>\n",
       "      <td>0</td>\n",
       "      <td>0</td>\n",
       "      <td>0</td>\n",
       "      <td>1.17</td>\n",
       "      <td>1</td>\n",
       "      <td>0</td>\n",
       "      <td>1</td>\n",
       "      <td>1</td>\n",
       "      <td>3</td>\n",
       "      <td>0</td>\n",
       "    </tr>\n",
       "    <tr>\n",
       "      <th>1</th>\n",
       "      <td>58000.0</td>\n",
       "      <td>1</td>\n",
       "      <td>0</td>\n",
       "      <td>0</td>\n",
       "      <td>1.24</td>\n",
       "      <td>1</td>\n",
       "      <td>0</td>\n",
       "      <td>1</td>\n",
       "      <td>1</td>\n",
       "      <td>2</td>\n",
       "      <td>0</td>\n",
       "    </tr>\n",
       "    <tr>\n",
       "      <th>2</th>\n",
       "      <td>45500.0</td>\n",
       "      <td>0</td>\n",
       "      <td>0</td>\n",
       "      <td>0</td>\n",
       "      <td>1.21</td>\n",
       "      <td>1</td>\n",
       "      <td>0</td>\n",
       "      <td>1</td>\n",
       "      <td>1</td>\n",
       "      <td>3</td>\n",
       "      <td>2</td>\n",
       "    </tr>\n",
       "    <tr>\n",
       "      <th>3</th>\n",
       "      <td>35782.0</td>\n",
       "      <td>0</td>\n",
       "      <td>2</td>\n",
       "      <td>1</td>\n",
       "      <td>0.99</td>\n",
       "      <td>1</td>\n",
       "      <td>0</td>\n",
       "      <td>1</td>\n",
       "      <td>1</td>\n",
       "      <td>4</td>\n",
       "      <td>1</td>\n",
       "    </tr>\n",
       "    <tr>\n",
       "      <th>4</th>\n",
       "      <td>34731.0</td>\n",
       "      <td>0</td>\n",
       "      <td>2</td>\n",
       "      <td>2</td>\n",
       "      <td>0.91</td>\n",
       "      <td>1</td>\n",
       "      <td>0</td>\n",
       "      <td>1</td>\n",
       "      <td>1</td>\n",
       "      <td>4</td>\n",
       "      <td>1</td>\n",
       "    </tr>\n",
       "  </tbody>\n",
       "</table>\n",
       "</div>"
      ],
      "text/plain": [
       "    salary  exprior  yearsworked  yearsrank  market  degree  otherqual  \\\n",
       "0  53000.0        0            0          0    1.17       1          0   \n",
       "1  58000.0        1            0          0    1.24       1          0   \n",
       "2  45500.0        0            0          0    1.21       1          0   \n",
       "3  35782.0        0            2          1    0.99       1          0   \n",
       "4  34731.0        0            2          2    0.91       1          0   \n",
       "\n",
       "   position  male  Field  yearsabs  \n",
       "0         1     1      3         0  \n",
       "1         1     1      2         0  \n",
       "2         1     1      3         2  \n",
       "3         1     1      4         1  \n",
       "4         1     1      4         1  "
      ]
     },
     "execution_count": 88,
     "metadata": {},
     "output_type": "execute_result"
    }
   ],
   "source": [
    "file.head()"
   ]
  },
  {
   "cell_type": "code",
   "execution_count": 112,
   "metadata": {},
   "outputs": [],
   "source": [
    "# Initializing our data\n",
    "# Data relative to it's Field of work\n",
    "xe,ye = np.array(file[file.Field == 1]['yearsworked']),np.array(file[file.Field == 1]['salary']) #Engineering Field\n",
    "xf,yf = np.array(file[file.Field == 2]['yearsworked']),np.array(file[file.Field == 2]['salary']) # Fincance Field\n",
    "xh,yh = np.array(file[file.Field == 3]['yearsworked']), np.array(file[file.Field == 3]['salary']) # HR Field\n",
    "xm,ym = np.array(file[file.Field == 4]['yearsworked']),np.array(file[file.Field == 4]['salary']) #Markerting Field \n",
    "# Salary and yearsworked\n",
    "x = np.array(file['yearsworked'])  #Years worked by employee\n",
    "y = np.array(file['salary'])  #Salary earned by employee"
   ]
  },
  {
   "cell_type": "markdown",
   "metadata": {},
   "source": [
    "# (a) Run a simple linear regression for Salary with one predictor variable: Years Worked\n",
    "\n",
    "## (i)\tWhat percentage of the variance in employees’ salaries is accounted for by the number of years they have worked?"
   ]
  },
  {
   "cell_type": "code",
   "execution_count": 110,
   "metadata": {},
   "outputs": [
    {
     "data": {
      "image/png": "[encoded data removed]",
      "text/plain": [
       "<Figure size 1440x432 with 1 Axes>"
      ]
     },
     "metadata": {},
     "output_type": "display_data"
    }
   ],
   "source": [
    "# Plotting our Data. \n",
    "plt.scatter(xe,ye,color='m')\n",
    "plt.scatter(xf,yf,c='c')\n",
    "plt.scatter(xh,yh,c='b')\n",
    "plt.scatter(xm,ym)\n",
    "z = np.polyfit(x,y,1)\n",
    "p = np.poly1d(z)\n",
    "plt.plot(x,p(x), 'k')\n",
    "plt.xlabel('Years worked by each employee.', fontsize=14)\n",
    "plt.ylabel('Salary earned by employee in U.S Dollars', fontsize=14)\n",
    "plt.title('Scatter plot of salary earned by employees against years worked.',fontsize=14)\n",
    "plt.show()"
   ]
  },
  {
   "cell_type": "code",
   "execution_count": 109,
   "metadata": {},
   "outputs": [
    {
     "name": "stdout",
     "output_type": "stream",
     "text": [
      "38.88630734996\n"
     ]
    }
   ],
   "source": [
    "# calculate Pearson's correlation coefficient \n",
    "slope, intercept, r, p, std_err = stats.linregress(x,y)\n",
    "std = np.std(y)\n",
    "louise = r**2 * 100 #coefficient of determination\n",
    "print(louise)"
   ]
  },
  {
   "cell_type": "markdown",
   "metadata": {},
   "source": [
    "## (ii) Does the model significantly predict the dependent variable? Report the amount of variance explained (R2) and significance value (p) to support your answer."
   ]
  },
  {
   "cell_type": "markdown",
   "metadata": {},
   "source": [
    "##### - yes it does, because our p-value is well-below our significance threshold of 0.05 . Meaning our coefficient of determination (0.3886307) is most likely to be correct. "
   ]
  },
  {
   "cell_type": "markdown",
   "metadata": {},
   "source": [
    "## iii)\tReport and interpret the standard error of the estimate. (Hint: Compare the standard error of the estimate to the standard deviation for Salary, which you would have calculated in Question 1.a))"
   ]
  },
  {
   "cell_type": "code",
   "execution_count": 97,
   "metadata": {},
   "outputs": [
    {
     "name": "stdout",
     "output_type": "stream",
     "text": [
      "std : 12672.762650138267\n",
      "std_err : 46.43634621012886\n"
     ]
    }
   ],
   "source": [
    "print('std :',std)\n",
    "print('std_err :',std_err)"
   ]
  },
  {
   "cell_type": "markdown",
   "metadata": {},
   "source": [
    "#####  the avarage difference of the predicted amounts to the actual amount in the \"yearsworked\" and ''salary'' is 46.44 ."
   ]
  },
  {
   "cell_type": "markdown",
   "metadata": {},
   "source": [
    "# b)\tExamine the output from the Coefficients table:"
   ]
  },
  {
   "cell_type": "markdown",
   "metadata": {},
   "source": [
    "## (i)\tWhat does the unstandardized coefficient (B) tell you about the relationship between Years Worked and Salary?"
   ]
  },
  {
   "cell_type": "code",
   "execution_count": 4,
   "metadata": {},
   "outputs": [
    {
     "name": "stdout",
     "output_type": "stream",
     "text": [
      "Years Worked: 0 | Predicted Salary = 40115.0137875915 | Difference = 40115.0137875915\n",
      "Years Worked: 1 | Predicted Salary = 40952.34557759235 | Difference = 837.3317900008478\n",
      "Years Worked: 2 | Predicted Salary = 41789.67736759319 | Difference = 837.3317900008406\n",
      "Years Worked: 3 | Predicted Salary = 42627.00915759404 | Difference = 837.3317900008478\n",
      "Years Worked: 4 | Predicted Salary = 43464.34094759488 | Difference = 837.3317900008406\n",
      "Years Worked: 5 | Predicted Salary = 44301.67273759573 | Difference = 837.3317900008478\n"
     ]
    }
   ],
   "source": [
    "sample = pd.DataFrame(file[\"yearsworked\"]).sort_values('yearsworked').reset_index()\n",
    "sample = sample.loc[[6,44, 50, 100, 130, 150]]\n",
    "predicted_salary = 0\n",
    "\n",
    "def predict_salary(yearsworked):\n",
    "    return slope * year + intercept\n",
    "\n",
    "for year in sample.yearsworked:\n",
    "    last_salary = predicted_salary\n",
    "    predicted_salary = slope * year + intercept\n",
    "    difference = predicted_salary - last_salary\n",
    "    print(\"Years Worked: \" + str(year) + \" | Predicted Salary = \" + str(predicted_salary) + \" | Difference = \" + str(difference))"
   ]
  },
  {
   "cell_type": "markdown",
   "metadata": {},
   "source": [
    "##### It tells us that for every year worked an employee earns R837 more per annum. "
   ]
  },
  {
   "cell_type": "markdown",
   "metadata": {},
   "source": [
    "## (ii)\tCompare the standardised coefficient (Beta) for Years Worked to the Pearson’s (zero-order) correlation coefficient from question 1.c). What do you notice? Explain why this is so. \n"
   ]
  },
  {
   "cell_type": "code",
   "execution_count": 98,
   "metadata": {},
   "outputs": [
    {
     "name": "stdout",
     "output_type": "stream",
     "text": [
      "3.789040227476409\n",
      "0.6235888657598049\n"
     ]
    }
   ],
   "source": [
    "std_x = np.std(x)\n",
    "std_y = np.std(y)\n",
    "\n",
    "predicted_salary_Std = slope * std_x + intercept\n",
    "predicted_salary_Std = predicted_salary_Std / std_y\n",
    "print(predicted_salary_Std)\n",
    "print(r)"
   ]
  },
  {
   "cell_type": "markdown",
   "metadata": {},
   "source": [
    "* When we compare Standardised coefficient and correlation coefficient of the years worked, we notice that both our coefficient concur with each other that there is a positive relation between X and Y, because our r value (0.62)  shows that there is a positive relationship between our variables(x(years worked) and y(Salary)) and our Standardised coefficient (Beta) shows that when there is a 1 std increase in the years worked there is an increase of 3.75 std in the Salary earned. \n",
    "* We also note that both our coefficients have different ranges, we note that the data's standardised coefficient can be larger than 1, but the correlation coefficient cannot be larger than one. "
   ]
  },
  {
   "cell_type": "markdown",
   "metadata": {},
   "source": [
    "## (iii)\tCalculate the expected salary for someone who graduated 12 years ago."
   ]
  },
  {
   "cell_type": "code",
   "execution_count": 20,
   "metadata": {},
   "outputs": [
    {
     "name": "stdout",
     "output_type": "stream",
     "text": [
      "50162.99526760164\n"
     ]
    }
   ],
   "source": [
    "Predicted_salary_12 = slope * 12 + intercept\n",
    "print(Predicted_salary_12 )"
   ]
  },
  {
   "cell_type": "markdown",
   "metadata": {},
   "source": [
    "## (iv)\tCalculate the expected salary for someone who graduated 80 years ago. Are there any problems with this prediction? If so, what are they?"
   ]
  },
  {
   "cell_type": "code",
   "execution_count": 28,
   "metadata": {},
   "outputs": [
    {
     "name": "stdout",
     "output_type": "stream",
     "text": [
      "107101.55698765905\n"
     ]
    }
   ],
   "source": [
    "p80 = slope * 80 + intercept\n",
    "print(p80)"
   ]
  },
  {
   "cell_type": "markdown",
   "metadata": {},
   "source": [
    "* No, there is no problem."
   ]
  },
  {
   "cell_type": "markdown",
   "metadata": {},
   "source": [
    "# c)\tWe have only looked at the number of years and employee has worked. What are employee characteristics might influence their salary?\n"
   ]
  },
  {
   "cell_type": "markdown",
   "metadata": {},
   "source": [
    "#### Position, Field of work, gender, level of education, experience prior to current position, market value and years worked at current position "
   ]
  }
 ],
 "metadata": {
  "kernelspec": {
   "display_name": "Python 3",
   "language": "python",
   "name": "python3"
  },
  "language_info": {
   "codemirror_mode": {
    "name": "ipython",
    "version": 3
   },
   "file_extension": ".py",
   "mimetype": "text/x-python",
   "name": "python",
   "nbconvert_exporter": "python",
   "pygments_lexer": "ipython3",
   "version": "3.6.5"
  }
 },
 "nbformat": 4,
 "nbformat_minor": 2
}
